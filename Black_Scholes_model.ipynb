{
  "nbformat": 4,
  "nbformat_minor": 0,
  "metadata": {
    "colab": {
      "name": "Black-Scholes model.ipynb",
      "provenance": []
    },
    "kernelspec": {
      "name": "python3",
      "display_name": "Python 3"
    },
    "language_info": {
      "name": "python"
    }
  },
  "cells": [
    {
      "cell_type": "code",
      "execution_count": null,
      "metadata": {
        "id": "jIAgcGZ4qGe0"
      },
      "outputs": [],
      "source": [
        "from math import log, sqrt, pi, exp\n",
        "from scipy.stats import norm\n",
        "from datetime import datetime, date\n",
        "import numpy as np\n",
        "import pandas as pd\n",
        "from pandas import DataFrame\n",
        "\n",
        "def d1(S,K,T,r,sigma):\n",
        "    return(log(S/K)+(r+sigma**2/2.)*T)/(sigma*sqrt(T))\n",
        "def d2(S,K,T,r,sigma):\n",
        "    return d1(S,K,T,r,sigma)-sigma*sqrt(T)\n",
        "\n",
        "def bs_call(S,K,T,r,sigma):\n",
        "    return S*norm.cdf(d1(S,K,T,r,sigma))-K*exp(-r*T)*norm.cdf(d2(S,K,T,r,sigma))\n",
        "  \n",
        "def bs_put(S,K,T,r,sigma):\n",
        "    return K*exp(-r*T)-S*bs_call(S,K,T,r,sigma)"
      ]
    },
    {
      "cell_type": "code",
      "source": [
        "## S = spot price of an asset, K = strike price, r = risk-free interest rate, t = time to maturity, sigma = volatility of the asset"
      ],
      "metadata": {
        "id": "RPWBOlQHqUhQ"
      },
      "execution_count": null,
      "outputs": []
    },
    {
      "cell_type": "code",
      "source": [
        "def call_implied_volatility(Price, S, K, T, r):\n",
        "    sigma = 0.001\n",
        "    while sigma < 1:\n",
        "        Price_implied = S * \\\n",
        "            norm.cdf(d1(S, K, T, r, sigma))-K*exp(-r*T) * \\\n",
        "            norm.cdf(d2(S, K, T, r, sigma))\n",
        "        if Price-(Price_implied) < 0.001:\n",
        "            return sigma\n",
        "        sigma += 0.001\n",
        "    return \"Not Found\"\n",
        "\n",
        "def put_implied_volatility(Price, S, K, T, r):\n",
        "    sigma = 0.001\n",
        "    while sigma < 1:\n",
        "        Price_implied = K*exp(-r*T)-S+bs_call(S, K, T, r, sigma)\n",
        "        if Price-(Price_implied) < 0.001:\n",
        "            return sigma\n",
        "        sigma += 0.001\n",
        "    return \"Not Found\"\n",
        "\n",
        "##print(\"Implied Volatility: \" + str(100 * call_implied_volatility(bs_call(lcp, strike_price, t, uty, sigma,), lcp, strike_price, t, uty,)) + \" %\")\n"
      ],
      "metadata": {
        "id": "WUBB5QtwrHkB"
      },
      "execution_count": null,
      "outputs": []
    },
    {
      "cell_type": "code",
      "source": [
        "def call_delta(S,K,T,r,sigma):\n",
        "    return norm.cdf(d1(S,K,T,r,sigma))\n",
        "def call_gamma(S,K,T,r,sigma):\n",
        "    return norm.pdf(d1(S,K,T,r,sigma))/(S*sigma*sqrt(T))\n",
        "def call_vega(S,K,T,r,sigma):\n",
        "    return 0.01*(S*norm.pdf(d1(S,K,T,r,sigma))*sqrt(T))\n",
        "def call_theta(S,K,T,r,sigma):\n",
        "    return 0.01*(-(S*norm.pdf(d1(S,K,T,r,sigma))*sigma)/(2*sqrt(T)) - r*K*exp(-r*T)*norm.cdf(d2(S,K,T,r,sigma)))\n",
        "def call_rho(S,K,T,r,sigma):\n",
        "    return 0.01*(K*T*exp(-r*T)*norm.cdf(d2(S,K,T,r,sigma)))\n",
        "    \n",
        "def put_delta(S,K,T,r,sigma):\n",
        "    return -norm.cdf(-d1(S,K,T,r,sigma))\n",
        "def put_gamma(S,K,T,r,sigma):\n",
        "    return norm.pdf(d1(S,K,T,r,sigma))/(S*sigma*sqrt(T))\n",
        "def put_vega(S,K,T,r,sigma):\n",
        "    return 0.01*(S*norm.pdf(d1(S,K,T,r,sigma))*sqrt(T))\n",
        "def put_theta(S,K,T,r,sigma):\n",
        "    return 0.01*(-(S*norm.pdf(d1(S,K,T,r,sigma))*sigma)/(2*sqrt(T)) + r*K*exp(-r*T)*norm.cdf(-d2(S,K,T,r,sigma)))\n",
        "def put_rho(S,K,T,r,sigma):\n",
        "    return 0.01*(-K*T*exp(-r*T)*norm.cdf(-d2(S,K,T,r,sigma)))"
      ],
      "metadata": {
        "id": "Kt-9QY3EreH2"
      },
      "execution_count": null,
      "outputs": []
    },
    {
      "cell_type": "code",
      "source": [
        "## it is recommended to buy when implied volatility is lowest, which indicates that prices are discounted "
      ],
      "metadata": {
        "id": "luLol5kVrzIr"
      },
      "execution_count": null,
      "outputs": []
    }
  ]
}