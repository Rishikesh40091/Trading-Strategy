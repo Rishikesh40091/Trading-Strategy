{
  "nbformat": 4,
  "nbformat_minor": 0,
  "metadata": {
    "colab": {
      "name": "cleaning 1 min data.ipynb",
      "provenance": []
    },
    "kernelspec": {
      "name": "python3",
      "display_name": "Python 3"
    },
    "language_info": {
      "name": "python"
    }
  },
  "cells": [
    {
      "cell_type": "code",
      "execution_count": null,
      "metadata": {
        "id": "1zvuNLM5YRhQ",
        "colab": {
          "base_uri": "https://localhost:8080/"
        },
        "outputId": "93e41a0b-bf80-40ca-b07b-6a6f472cd599"
      },
      "outputs": [
        {
          "output_type": "stream",
          "name": "stdout",
          "text": [
            "Mounted at /content/drive\n"
          ]
        }
      ],
      "source": [
        "from google.colab import drive\n",
        "drive.mount('/content/drive')"
      ]
    },
    {
      "cell_type": "code",
      "source": [
        "import pandas as pd\n",
        "import numpy as np\n",
        "y17n = pd.read_csv('/content/drive/MyDrive/1min data NF BNF 2017-2021/2017 Nifty.csv')\n",
        "y17bn = fy18n = pd.read_csv('/content/drive/MyDrive/1min data NF BNF 2017-2021/2017 BNifty.csv')\n",
        "y18n = pd.read_csv('/content/drive/MyDrive/1min data NF BNF 2017-2021/2018 Nifty.csv')     \n",
        "y18bn = pd.read_csv('/content/drive/MyDrive/1min data NF BNF 2017-2021/2018 BNifty.csv')   \n",
        "y19n = pd.read_csv('/content/drive/MyDrive/1min data NF BNF 2017-2021/2019 Nifty.csv')\n",
        "y19bn = pd.read_csv('/content/drive/MyDrive/1min data NF BNF 2017-2021/2019 BNifty.csv')\n",
        "y20n = pd.read_csv('/content/drive/MyDrive/1min data NF BNF 2017-2021/2020 Nifty.csv')\n",
        "y20bn = pd.read_csv('/content/drive/MyDrive/1min data NF BNF 2017-2021/2020 BNifty.csv') \n",
        "y21n = pd.read_csv('/content/drive/MyDrive/1min data NF BNF 2017-2021/2021 Nifty.csv')  \n",
        "y21bn = pd.read_csv('/content/drive/MyDrive/1min data NF BNF 2017-2021/2021 BNifty.csv')\n",
        "\n",
        "\n"
      ],
      "metadata": {
        "id": "jqWSZDnrcG-x",
        "colab": {
          "base_uri": "https://localhost:8080/"
        },
        "outputId": "9ab5dc25-b254-4774-9077-fbd33bdcd76e"
      },
      "execution_count": null,
      "outputs": [
        {
          "output_type": "stream",
          "name": "stderr",
          "text": [
            "/usr/local/lib/python3.7/dist-packages/IPython/core/interactiveshell.py:2882: DtypeWarning: Columns (1,3,4) have mixed types.Specify dtype option on import or set low_memory=False.\n",
            "  exec(code_obj, self.user_global_ns, self.user_ns)\n"
          ]
        }
      ]
    },
    {
      "cell_type": "code",
      "source": [
        "a1 = [y17n,y17bn,y18n,y18bn,y19n,y19bn,y20n,y20bn,y21n,y21bn]"
      ],
      "metadata": {
        "id": "OWrMIbNIYIh_"
      },
      "execution_count": null,
      "outputs": []
    },
    {
      "cell_type": "code",
      "source": [
        "\n",
        "y17n.replace('', np.nan, inplace=True)\n",
        "y17n.replace('None--', np.nan, inplace=True)\n"
      ],
      "metadata": {
        "id": "siy6KSQ3gVNi"
      },
      "execution_count": null,
      "outputs": []
    },
    {
      "cell_type": "code",
      "source": [
        "y17n.dropna(axis=0, inplace =False)\n"
      ],
      "metadata": {
        "id": "DAZM8zee4Plc",
        "colab": {
          "base_uri": "https://localhost:8080/",
          "height": 424
        },
        "outputId": "718c9985-2ff5-4f08-85b8-88fd30fad65e"
      },
      "execution_count": null,
      "outputs": [
        {
          "output_type": "execute_result",
          "data": {
            "text/plain": [
              "       Unnamed: 0      1           2      3         4         5         6  \\\n",
              "0               0  NIFTY  2017-01-02  09:08   8210.10   8210.10   8210.10   \n",
              "1               1  NIFTY  2017-01-02  09:16   8212.00   8212.00   8188.60   \n",
              "2               2  NIFTY  2017-01-02  09:17   8188.75   8193.95   8188.75   \n",
              "3               3  NIFTY  2017-01-02  09:18   8190.15   8190.75   8173.60   \n",
              "4               4  NIFTY  2017-01-02  09:19   8173.00   8177.55   8168.80   \n",
              "...           ...    ...         ...    ...       ...       ...       ...   \n",
              "93192       93192  NIFTY  2017-12-29  15:28  10532.40  10535.20  10532.20   \n",
              "93193       93193  NIFTY  2017-12-29  15:29  10532.80  10533.70  10529.00   \n",
              "93194       93194  NIFTY  2017-12-29  15:30  10530.20  10533.20  10526.50   \n",
              "93195       93195  NIFTY  2017-12-29  15:31  10528.80  10528.80  10528.80   \n",
              "93196       93196  NIFTY  2017-12-29  15:32  10530.50  10530.70  10530.30   \n",
              "\n",
              "              7      8  \n",
              "0       8210.10  100.0  \n",
              "1       8189.55   58.0  \n",
              "2       8189.95   59.0  \n",
              "3       8173.70   59.0  \n",
              "4       8177.55   55.0  \n",
              "...         ...    ...  \n",
              "93192  10533.10   58.0  \n",
              "93193  10531.30   58.0  \n",
              "93194  10526.50   60.0  \n",
              "93195  10528.80    1.0  \n",
              "93196  10530.70    3.0  \n",
              "\n",
              "[93186 rows x 9 columns]"
            ],
            "text/html": [
              "\n",
              "  <div id=\"df-524842c5-1ed9-4014-af66-abc036f0096e\">\n",
              "    <div class=\"colab-df-container\">\n",
              "      <div>\n",
              "<style scoped>\n",
              "    .dataframe tbody tr th:only-of-type {\n",
              "        vertical-align: middle;\n",
              "    }\n",
              "\n",
              "    .dataframe tbody tr th {\n",
              "        vertical-align: top;\n",
              "    }\n",
              "\n",
              "    .dataframe thead th {\n",
              "        text-align: right;\n",
              "    }\n",
              "</style>\n",
              "<table border=\"1\" class=\"dataframe\">\n",
              "  <thead>\n",
              "    <tr style=\"text-align: right;\">\n",
              "      <th></th>\n",
              "      <th>Unnamed: 0</th>\n",
              "      <th>1</th>\n",
              "      <th>2</th>\n",
              "      <th>3</th>\n",
              "      <th>4</th>\n",
              "      <th>5</th>\n",
              "      <th>6</th>\n",
              "      <th>7</th>\n",
              "      <th>8</th>\n",
              "    </tr>\n",
              "  </thead>\n",
              "  <tbody>\n",
              "    <tr>\n",
              "      <th>0</th>\n",
              "      <td>0</td>\n",
              "      <td>NIFTY</td>\n",
              "      <td>2017-01-02</td>\n",
              "      <td>09:08</td>\n",
              "      <td>8210.10</td>\n",
              "      <td>8210.10</td>\n",
              "      <td>8210.10</td>\n",
              "      <td>8210.10</td>\n",
              "      <td>100.0</td>\n",
              "    </tr>\n",
              "    <tr>\n",
              "      <th>1</th>\n",
              "      <td>1</td>\n",
              "      <td>NIFTY</td>\n",
              "      <td>2017-01-02</td>\n",
              "      <td>09:16</td>\n",
              "      <td>8212.00</td>\n",
              "      <td>8212.00</td>\n",
              "      <td>8188.60</td>\n",
              "      <td>8189.55</td>\n",
              "      <td>58.0</td>\n",
              "    </tr>\n",
              "    <tr>\n",
              "      <th>2</th>\n",
              "      <td>2</td>\n",
              "      <td>NIFTY</td>\n",
              "      <td>2017-01-02</td>\n",
              "      <td>09:17</td>\n",
              "      <td>8188.75</td>\n",
              "      <td>8193.95</td>\n",
              "      <td>8188.75</td>\n",
              "      <td>8189.95</td>\n",
              "      <td>59.0</td>\n",
              "    </tr>\n",
              "    <tr>\n",
              "      <th>3</th>\n",
              "      <td>3</td>\n",
              "      <td>NIFTY</td>\n",
              "      <td>2017-01-02</td>\n",
              "      <td>09:18</td>\n",
              "      <td>8190.15</td>\n",
              "      <td>8190.75</td>\n",
              "      <td>8173.60</td>\n",
              "      <td>8173.70</td>\n",
              "      <td>59.0</td>\n",
              "    </tr>\n",
              "    <tr>\n",
              "      <th>4</th>\n",
              "      <td>4</td>\n",
              "      <td>NIFTY</td>\n",
              "      <td>2017-01-02</td>\n",
              "      <td>09:19</td>\n",
              "      <td>8173.00</td>\n",
              "      <td>8177.55</td>\n",
              "      <td>8168.80</td>\n",
              "      <td>8177.55</td>\n",
              "      <td>55.0</td>\n",
              "    </tr>\n",
              "    <tr>\n",
              "      <th>...</th>\n",
              "      <td>...</td>\n",
              "      <td>...</td>\n",
              "      <td>...</td>\n",
              "      <td>...</td>\n",
              "      <td>...</td>\n",
              "      <td>...</td>\n",
              "      <td>...</td>\n",
              "      <td>...</td>\n",
              "      <td>...</td>\n",
              "    </tr>\n",
              "    <tr>\n",
              "      <th>93192</th>\n",
              "      <td>93192</td>\n",
              "      <td>NIFTY</td>\n",
              "      <td>2017-12-29</td>\n",
              "      <td>15:28</td>\n",
              "      <td>10532.40</td>\n",
              "      <td>10535.20</td>\n",
              "      <td>10532.20</td>\n",
              "      <td>10533.10</td>\n",
              "      <td>58.0</td>\n",
              "    </tr>\n",
              "    <tr>\n",
              "      <th>93193</th>\n",
              "      <td>93193</td>\n",
              "      <td>NIFTY</td>\n",
              "      <td>2017-12-29</td>\n",
              "      <td>15:29</td>\n",
              "      <td>10532.80</td>\n",
              "      <td>10533.70</td>\n",
              "      <td>10529.00</td>\n",
              "      <td>10531.30</td>\n",
              "      <td>58.0</td>\n",
              "    </tr>\n",
              "    <tr>\n",
              "      <th>93194</th>\n",
              "      <td>93194</td>\n",
              "      <td>NIFTY</td>\n",
              "      <td>2017-12-29</td>\n",
              "      <td>15:30</td>\n",
              "      <td>10530.20</td>\n",
              "      <td>10533.20</td>\n",
              "      <td>10526.50</td>\n",
              "      <td>10526.50</td>\n",
              "      <td>60.0</td>\n",
              "    </tr>\n",
              "    <tr>\n",
              "      <th>93195</th>\n",
              "      <td>93195</td>\n",
              "      <td>NIFTY</td>\n",
              "      <td>2017-12-29</td>\n",
              "      <td>15:31</td>\n",
              "      <td>10528.80</td>\n",
              "      <td>10528.80</td>\n",
              "      <td>10528.80</td>\n",
              "      <td>10528.80</td>\n",
              "      <td>1.0</td>\n",
              "    </tr>\n",
              "    <tr>\n",
              "      <th>93196</th>\n",
              "      <td>93196</td>\n",
              "      <td>NIFTY</td>\n",
              "      <td>2017-12-29</td>\n",
              "      <td>15:32</td>\n",
              "      <td>10530.50</td>\n",
              "      <td>10530.70</td>\n",
              "      <td>10530.30</td>\n",
              "      <td>10530.70</td>\n",
              "      <td>3.0</td>\n",
              "    </tr>\n",
              "  </tbody>\n",
              "</table>\n",
              "<p>93186 rows × 9 columns</p>\n",
              "</div>\n",
              "      <button class=\"colab-df-convert\" onclick=\"convertToInteractive('df-524842c5-1ed9-4014-af66-abc036f0096e')\"\n",
              "              title=\"Convert this dataframe to an interactive table.\"\n",
              "              style=\"display:none;\">\n",
              "        \n",
              "  <svg xmlns=\"http://www.w3.org/2000/svg\" height=\"24px\"viewBox=\"0 0 24 24\"\n",
              "       width=\"24px\">\n",
              "    <path d=\"M0 0h24v24H0V0z\" fill=\"none\"/>\n",
              "    <path d=\"M18.56 5.44l.94 2.06.94-2.06 2.06-.94-2.06-.94-.94-2.06-.94 2.06-2.06.94zm-11 1L8.5 8.5l.94-2.06 2.06-.94-2.06-.94L8.5 2.5l-.94 2.06-2.06.94zm10 10l.94 2.06.94-2.06 2.06-.94-2.06-.94-.94-2.06-.94 2.06-2.06.94z\"/><path d=\"M17.41 7.96l-1.37-1.37c-.4-.4-.92-.59-1.43-.59-.52 0-1.04.2-1.43.59L10.3 9.45l-7.72 7.72c-.78.78-.78 2.05 0 2.83L4 21.41c.39.39.9.59 1.41.59.51 0 1.02-.2 1.41-.59l7.78-7.78 2.81-2.81c.8-.78.8-2.07 0-2.86zM5.41 20L4 18.59l7.72-7.72 1.47 1.35L5.41 20z\"/>\n",
              "  </svg>\n",
              "      </button>\n",
              "      \n",
              "  <style>\n",
              "    .colab-df-container {\n",
              "      display:flex;\n",
              "      flex-wrap:wrap;\n",
              "      gap: 12px;\n",
              "    }\n",
              "\n",
              "    .colab-df-convert {\n",
              "      background-color: #E8F0FE;\n",
              "      border: none;\n",
              "      border-radius: 50%;\n",
              "      cursor: pointer;\n",
              "      display: none;\n",
              "      fill: #1967D2;\n",
              "      height: 32px;\n",
              "      padding: 0 0 0 0;\n",
              "      width: 32px;\n",
              "    }\n",
              "\n",
              "    .colab-df-convert:hover {\n",
              "      background-color: #E2EBFA;\n",
              "      box-shadow: 0px 1px 2px rgba(60, 64, 67, 0.3), 0px 1px 3px 1px rgba(60, 64, 67, 0.15);\n",
              "      fill: #174EA6;\n",
              "    }\n",
              "\n",
              "    [theme=dark] .colab-df-convert {\n",
              "      background-color: #3B4455;\n",
              "      fill: #D2E3FC;\n",
              "    }\n",
              "\n",
              "    [theme=dark] .colab-df-convert:hover {\n",
              "      background-color: #434B5C;\n",
              "      box-shadow: 0px 1px 3px 1px rgba(0, 0, 0, 0.15);\n",
              "      filter: drop-shadow(0px 1px 2px rgba(0, 0, 0, 0.3));\n",
              "      fill: #FFFFFF;\n",
              "    }\n",
              "  </style>\n",
              "\n",
              "      <script>\n",
              "        const buttonEl =\n",
              "          document.querySelector('#df-524842c5-1ed9-4014-af66-abc036f0096e button.colab-df-convert');\n",
              "        buttonEl.style.display =\n",
              "          google.colab.kernel.accessAllowed ? 'block' : 'none';\n",
              "\n",
              "        async function convertToInteractive(key) {\n",
              "          const element = document.querySelector('#df-524842c5-1ed9-4014-af66-abc036f0096e');\n",
              "          const dataTable =\n",
              "            await google.colab.kernel.invokeFunction('convertToInteractive',\n",
              "                                                     [key], {});\n",
              "          if (!dataTable) return;\n",
              "\n",
              "          const docLinkHtml = 'Like what you see? Visit the ' +\n",
              "            '<a target=\"_blank\" href=https://colab.research.google.com/notebooks/data_table.ipynb>data table notebook</a>'\n",
              "            + ' to learn more about interactive tables.';\n",
              "          element.innerHTML = '';\n",
              "          dataTable['output_type'] = 'display_data';\n",
              "          await google.colab.output.renderOutput(dataTable, element);\n",
              "          const docLink = document.createElement('div');\n",
              "          docLink.innerHTML = docLinkHtml;\n",
              "          element.appendChild(docLink);\n",
              "        }\n",
              "      </script>\n",
              "    </div>\n",
              "  </div>\n",
              "  "
            ]
          },
          "metadata": {},
          "execution_count": 5
        }
      ]
    },
    {
      "cell_type": "code",
      "source": [
        "a = []\n",
        "for i in range(len(y17n)):\n",
        "  if y17n['3'][i] == '09:08' or y17n['3'][i] == '15:31' or y17n['3'][i] == '15:32':\n",
        "    a.append(i)\n",
        "print(a)    "
      ],
      "metadata": {
        "id": "bFvncUJh5WE9",
        "colab": {
          "base_uri": "https://localhost:8080/"
        },
        "outputId": "6f9b6ee2-3f11-4d47-d610-cb8d002029af"
      },
      "execution_count": null,
      "outputs": [
        {
          "output_type": "stream",
          "name": "stdout",
          "text": [
            "[0, 376, 377, 753, 754, 1130, 1131, 1132, 1508, 1509, 1885, 2262, 2263, 2264, 2640, 2641, 3017, 3018, 3019, 3395, 3396, 3397, 3773, 3774, 3775, 4151, 4152, 4153, 4529, 4530, 4531, 4907, 4908, 4909, 5285, 5286, 5287, 5663, 5664, 5665, 6041, 6042, 6418, 6419, 6420, 6796, 6797, 7173, 7174, 7175, 7551, 7552, 7553, 7929, 7930, 7932, 8308, 8309, 8310, 8686, 8687, 8688, 9064, 9065, 9441, 9442, 9443, 9819, 9820, 10196, 10573, 10574, 10575, 10951, 10952, 11328, 11329, 11330, 11706, 11707, 11708, 12084, 12085, 12086, 12462, 12463, 12464, 12840, 12841, 12842, 13218, 13219, 13220, 13596, 13597, 13598, 13974, 13975, 13976, 14352, 14353, 14354, 14730, 14731, 14732, 15108, 15110, 15486, 15487, 15488, 15864, 15865, 16241, 16242, 16243, 16619, 16620, 16621, 16997, 16998, 17374, 17375, 17751, 17752, 18128, 18129, 18130, 18506, 18507, 18508, 18884, 18885, 18886, 19262, 19263, 19264, 19640, 19641, 20017, 20018, 20019, 20395, 20396, 20397, 20773, 20774, 21150, 21151, 21152, 21528, 21529, 21530, 21906, 21907, 22283, 22284, 22285, 22661, 22662, 23038, 23039, 23415, 23417, 23793, 23794, 23795, 24171, 24172, 24173, 24549, 24550, 24926, 24927, 25303, 25304, 25305, 25681, 25682, 25683, 26059, 26060, 26436, 26437, 26813, 26814, 27190, 27191, 27567, 27568, 27943, 27944, 28320, 28321, 28322, 28698, 28699, 28700, 29076, 29077, 29453, 29454, 29830, 29831, 30207, 30209, 30585, 30586, 30962, 31339, 31340, 31716, 31717, 31718, 32094, 32095, 32096, 32472, 32473, 32474, 32850, 32851, 32852, 33228, 33229, 33230, 33606, 33607, 33608, 33984, 33985, 33986, 34362, 34363, 34364, 34740, 34741, 35118, 35119, 35120, 35496, 35497, 35498, 35874, 35875, 35876, 36252, 36253, 36254, 36630, 36631, 36632, 37008, 37009, 37010, 37386, 37387, 37763, 37764, 38140, 38141, 38517, 38519, 38895, 38896, 39272, 39273, 39649, 39650, 40026, 40027, 40403, 40404, 40780, 40781, 40782, 41158, 41159, 41160, 41536, 41537, 41913, 41914, 42290, 42291, 42667, 42668, 42669, 43045, 43046, 43422, 43423, 43424, 43800, 43801, 43802, 44178, 44179, 44180, 44556, 44557, 44558, 44934, 44935, 44936, 45312, 45313, 45690, 45691, 45692, 46068, 46069, 46070, 46446, 46447, 46449, 46825, 46826, 47202, 47203, 47579, 47580, 47956, 47957, 47958, 48334, 48335, 48544, 48545, 48546, 48922, 48923, 48924, 49300, 49301, 49302, 49678, 49679, 49680, 50056, 50057, 50058, 50434, 50435, 50436, 50812, 50813, 50814, 51190, 51191, 51192, 51568, 51569, 51570, 51946, 51947, 51948, 52324, 52325, 52326, 52702, 52703, 52704, 53080, 53081, 53082, 53458, 53459, 53460, 53836, 53837, 53838, 54214, 54215, 54217, 54593, 54594, 54595, 54971, 54972, 55348, 55349, 55350, 55726, 55727, 55728, 56104, 56105, 56106, 56482, 56483, 56484, 56860, 56861, 57237, 57238, 57614, 57615, 57991, 57992, 58368, 58369, 58370, 58746, 58747, 58748, 59124, 59125, 59501, 59502, 59503, 59879, 59880, 59881, 60257, 60258, 60634, 60635, 60636, 61012, 61013, 61389, 61390, 61766, 61767, 61768, 62144, 62145, 62147, 62523, 62524, 62525, 62901, 62902, 62903, 63279, 63280, 63281, 63657, 63658, 63659, 64035, 64036, 64037, 64413, 64414, 64415, 64791, 64792, 64793, 65169, 65170, 65546, 65547, 65548, 65924, 65925, 66301, 66302, 66678, 66679, 66680, 67056, 67057, 67058, 67434, 67435, 67436, 67812, 67813, 68189, 68190, 68567, 68568, 68569, 68945, 68946, 68947, 69323, 69324, 69325, 69701, 69703, 70079, 70080, 70082, 70458, 70459, 70460, 70836, 70837, 70838, 71214, 71215, 71216, 71592, 71593, 71594, 71970, 71971, 71972, 72348, 72349, 72350, 72726, 72727, 72728, 73104, 73481, 73482, 73483, 73859, 73860, 73861, 74237, 74238, 74239, 74615, 74616, 74680, 75056, 75057, 75058, 75434, 75435, 75436, 75812, 75813, 75814, 76190, 76191, 76192, 76568, 76569, 76570, 76946, 76947, 76948, 77324, 77325, 77327, 77703, 77704, 77705, 78081, 78082, 78083, 78459, 78460, 78461, 78837, 78838, 78839, 79215, 79216, 79217, 79593, 79594, 79595, 79971, 79972, 79973, 80349, 80350, 80351, 80727, 80728, 80729, 81105, 81106, 81107, 81483, 81484, 81485, 81861, 81862, 81863, 82239, 82240, 82241, 82617, 82618, 82619, 82995, 83372, 83373, 83374, 83750, 83751, 83752, 84128, 84129, 84130, 84506, 84507, 84508, 84884, 84885, 84886, 85262, 85263, 85639, 85640, 85642, 86018, 86019, 86021, 86397, 86398, 86774, 86775, 87151, 87152, 87528, 87529, 87905, 87906, 88282, 88283, 88284, 88660, 88661, 88662, 89038, 89039, 89040, 89416, 89417, 89418, 89794, 89795, 89796, 90172, 90173, 90174, 90550, 90551, 90928, 90929, 90930, 91306, 91307, 91308, 91684, 91685, 91686, 92062, 92063, 92064, 92440, 92441, 92442, 92818, 92819, 93195, 93196]\n"
          ]
        }
      ]
    },
    {
      "cell_type": "code",
      "source": [
        "\n",
        "y17n.drop(a,axis=0, inplace=True )\n"
      ],
      "metadata": {
        "id": "3qhDuYfu661x"
      },
      "execution_count": null,
      "outputs": []
    },
    {
      "cell_type": "code",
      "source": [
        "for i in range(10):\n",
        "  a=[]\n",
        "  a1[i].replace('', np.nan, inplace=True)\n",
        "  a1[i].replace('None--', np.nan, inplace=True)\n",
        "  a1[i].dropna(axis=0, inplace =False)\n",
        "  b = a1[i]\n",
        "  for j in range(len(b)):\n",
        "    \n",
        "    if b['3'][j] == '09:08' or b['3'][j] == '15:31' or b['3'][j] == '15:32':\n",
        "      a.append(j)\n",
        "  b.drop(a,axis=0, inplace=True )\n",
        "\n"
      ],
      "metadata": {
        "id": "0N91i-LOX1Vr",
        "colab": {
          "base_uri": "https://localhost:8080/",
          "height": 514
        },
        "outputId": "b42bcab7-3b6c-47c8-c035-5c07da5b5062"
      },
      "execution_count": null,
      "outputs": [
        {
          "output_type": "error",
          "ename": "KeyError",
          "evalue": "ignored",
          "traceback": [
            "\u001b[0;31m---------------------------------------------------------------------------\u001b[0m",
            "\u001b[0;31mKeyError\u001b[0m                                  Traceback (most recent call last)",
            "\u001b[0;32m/usr/local/lib/python3.7/dist-packages/pandas/core/indexes/base.py\u001b[0m in \u001b[0;36mget_loc\u001b[0;34m(self, key, method, tolerance)\u001b[0m\n\u001b[1;32m   3360\u001b[0m             \u001b[0;32mtry\u001b[0m\u001b[0;34m:\u001b[0m\u001b[0;34m\u001b[0m\u001b[0;34m\u001b[0m\u001b[0m\n\u001b[0;32m-> 3361\u001b[0;31m                 \u001b[0;32mreturn\u001b[0m \u001b[0mself\u001b[0m\u001b[0;34m.\u001b[0m\u001b[0m_engine\u001b[0m\u001b[0;34m.\u001b[0m\u001b[0mget_loc\u001b[0m\u001b[0;34m(\u001b[0m\u001b[0mcasted_key\u001b[0m\u001b[0;34m)\u001b[0m\u001b[0;34m\u001b[0m\u001b[0;34m\u001b[0m\u001b[0m\n\u001b[0m\u001b[1;32m   3362\u001b[0m             \u001b[0;32mexcept\u001b[0m \u001b[0mKeyError\u001b[0m \u001b[0;32mas\u001b[0m \u001b[0merr\u001b[0m\u001b[0;34m:\u001b[0m\u001b[0;34m\u001b[0m\u001b[0;34m\u001b[0m\u001b[0m\n",
            "\u001b[0;32m/usr/local/lib/python3.7/dist-packages/pandas/_libs/index.pyx\u001b[0m in \u001b[0;36mpandas._libs.index.IndexEngine.get_loc\u001b[0;34m()\u001b[0m\n",
            "\u001b[0;32m/usr/local/lib/python3.7/dist-packages/pandas/_libs/index.pyx\u001b[0m in \u001b[0;36mpandas._libs.index.IndexEngine.get_loc\u001b[0;34m()\u001b[0m\n",
            "\u001b[0;32mpandas/_libs/hashtable_class_helper.pxi\u001b[0m in \u001b[0;36mpandas._libs.hashtable.Int64HashTable.get_item\u001b[0;34m()\u001b[0m\n",
            "\u001b[0;32mpandas/_libs/hashtable_class_helper.pxi\u001b[0m in \u001b[0;36mpandas._libs.hashtable.Int64HashTable.get_item\u001b[0;34m()\u001b[0m\n",
            "\u001b[0;31mKeyError\u001b[0m: 0",
            "\nThe above exception was the direct cause of the following exception:\n",
            "\u001b[0;31mKeyError\u001b[0m                                  Traceback (most recent call last)",
            "\u001b[0;32m<ipython-input-9-1b3380addcbf>\u001b[0m in \u001b[0;36m<module>\u001b[0;34m()\u001b[0m\n\u001b[1;32m      7\u001b[0m   \u001b[0;32mfor\u001b[0m \u001b[0mj\u001b[0m \u001b[0;32min\u001b[0m \u001b[0mrange\u001b[0m\u001b[0;34m(\u001b[0m\u001b[0mlen\u001b[0m\u001b[0;34m(\u001b[0m\u001b[0mb\u001b[0m\u001b[0;34m)\u001b[0m\u001b[0;34m)\u001b[0m\u001b[0;34m:\u001b[0m\u001b[0;34m\u001b[0m\u001b[0;34m\u001b[0m\u001b[0m\n\u001b[1;32m      8\u001b[0m \u001b[0;34m\u001b[0m\u001b[0m\n\u001b[0;32m----> 9\u001b[0;31m     \u001b[0;32mif\u001b[0m \u001b[0mb\u001b[0m\u001b[0;34m[\u001b[0m\u001b[0;34m'3'\u001b[0m\u001b[0;34m]\u001b[0m\u001b[0;34m[\u001b[0m\u001b[0mj\u001b[0m\u001b[0;34m]\u001b[0m \u001b[0;34m==\u001b[0m \u001b[0;34m'09:08'\u001b[0m \u001b[0;32mor\u001b[0m \u001b[0mb\u001b[0m\u001b[0;34m[\u001b[0m\u001b[0;34m'3'\u001b[0m\u001b[0;34m]\u001b[0m\u001b[0;34m[\u001b[0m\u001b[0mj\u001b[0m\u001b[0;34m]\u001b[0m \u001b[0;34m==\u001b[0m \u001b[0;34m'15:31'\u001b[0m \u001b[0;32mor\u001b[0m \u001b[0mb\u001b[0m\u001b[0;34m[\u001b[0m\u001b[0;34m'3'\u001b[0m\u001b[0;34m]\u001b[0m\u001b[0;34m[\u001b[0m\u001b[0mj\u001b[0m\u001b[0;34m]\u001b[0m \u001b[0;34m==\u001b[0m \u001b[0;34m'15:32'\u001b[0m\u001b[0;34m:\u001b[0m\u001b[0;34m\u001b[0m\u001b[0;34m\u001b[0m\u001b[0m\n\u001b[0m\u001b[1;32m     10\u001b[0m       \u001b[0ma\u001b[0m\u001b[0;34m.\u001b[0m\u001b[0mappend\u001b[0m\u001b[0;34m(\u001b[0m\u001b[0mj\u001b[0m\u001b[0;34m)\u001b[0m\u001b[0;34m\u001b[0m\u001b[0;34m\u001b[0m\u001b[0m\n\u001b[1;32m     11\u001b[0m   \u001b[0mb\u001b[0m\u001b[0;34m.\u001b[0m\u001b[0mdrop\u001b[0m\u001b[0;34m(\u001b[0m\u001b[0ma\u001b[0m\u001b[0;34m,\u001b[0m\u001b[0maxis\u001b[0m\u001b[0;34m=\u001b[0m\u001b[0;36m0\u001b[0m\u001b[0;34m,\u001b[0m \u001b[0minplace\u001b[0m\u001b[0;34m=\u001b[0m\u001b[0;32mTrue\u001b[0m \u001b[0;34m)\u001b[0m\u001b[0;34m\u001b[0m\u001b[0;34m\u001b[0m\u001b[0m\n",
            "\u001b[0;32m/usr/local/lib/python3.7/dist-packages/pandas/core/series.py\u001b[0m in \u001b[0;36m__getitem__\u001b[0;34m(self, key)\u001b[0m\n\u001b[1;32m    940\u001b[0m \u001b[0;34m\u001b[0m\u001b[0m\n\u001b[1;32m    941\u001b[0m         \u001b[0;32melif\u001b[0m \u001b[0mkey_is_scalar\u001b[0m\u001b[0;34m:\u001b[0m\u001b[0;34m\u001b[0m\u001b[0;34m\u001b[0m\u001b[0m\n\u001b[0;32m--> 942\u001b[0;31m             \u001b[0;32mreturn\u001b[0m \u001b[0mself\u001b[0m\u001b[0;34m.\u001b[0m\u001b[0m_get_value\u001b[0m\u001b[0;34m(\u001b[0m\u001b[0mkey\u001b[0m\u001b[0;34m)\u001b[0m\u001b[0;34m\u001b[0m\u001b[0;34m\u001b[0m\u001b[0m\n\u001b[0m\u001b[1;32m    943\u001b[0m \u001b[0;34m\u001b[0m\u001b[0m\n\u001b[1;32m    944\u001b[0m         \u001b[0;32mif\u001b[0m \u001b[0mis_hashable\u001b[0m\u001b[0;34m(\u001b[0m\u001b[0mkey\u001b[0m\u001b[0;34m)\u001b[0m\u001b[0;34m:\u001b[0m\u001b[0;34m\u001b[0m\u001b[0;34m\u001b[0m\u001b[0m\n",
            "\u001b[0;32m/usr/local/lib/python3.7/dist-packages/pandas/core/series.py\u001b[0m in \u001b[0;36m_get_value\u001b[0;34m(self, label, takeable)\u001b[0m\n\u001b[1;32m   1049\u001b[0m \u001b[0;34m\u001b[0m\u001b[0m\n\u001b[1;32m   1050\u001b[0m         \u001b[0;31m# Similar to Index.get_value, but we do not fall back to positional\u001b[0m\u001b[0;34m\u001b[0m\u001b[0;34m\u001b[0m\u001b[0;34m\u001b[0m\u001b[0m\n\u001b[0;32m-> 1051\u001b[0;31m         \u001b[0mloc\u001b[0m \u001b[0;34m=\u001b[0m \u001b[0mself\u001b[0m\u001b[0;34m.\u001b[0m\u001b[0mindex\u001b[0m\u001b[0;34m.\u001b[0m\u001b[0mget_loc\u001b[0m\u001b[0;34m(\u001b[0m\u001b[0mlabel\u001b[0m\u001b[0;34m)\u001b[0m\u001b[0;34m\u001b[0m\u001b[0;34m\u001b[0m\u001b[0m\n\u001b[0m\u001b[1;32m   1052\u001b[0m         \u001b[0;32mreturn\u001b[0m \u001b[0mself\u001b[0m\u001b[0;34m.\u001b[0m\u001b[0mindex\u001b[0m\u001b[0;34m.\u001b[0m\u001b[0m_get_values_for_loc\u001b[0m\u001b[0;34m(\u001b[0m\u001b[0mself\u001b[0m\u001b[0;34m,\u001b[0m \u001b[0mloc\u001b[0m\u001b[0;34m,\u001b[0m \u001b[0mlabel\u001b[0m\u001b[0;34m)\u001b[0m\u001b[0;34m\u001b[0m\u001b[0;34m\u001b[0m\u001b[0m\n\u001b[1;32m   1053\u001b[0m \u001b[0;34m\u001b[0m\u001b[0m\n",
            "\u001b[0;32m/usr/local/lib/python3.7/dist-packages/pandas/core/indexes/base.py\u001b[0m in \u001b[0;36mget_loc\u001b[0;34m(self, key, method, tolerance)\u001b[0m\n\u001b[1;32m   3361\u001b[0m                 \u001b[0;32mreturn\u001b[0m \u001b[0mself\u001b[0m\u001b[0;34m.\u001b[0m\u001b[0m_engine\u001b[0m\u001b[0;34m.\u001b[0m\u001b[0mget_loc\u001b[0m\u001b[0;34m(\u001b[0m\u001b[0mcasted_key\u001b[0m\u001b[0;34m)\u001b[0m\u001b[0;34m\u001b[0m\u001b[0;34m\u001b[0m\u001b[0m\n\u001b[1;32m   3362\u001b[0m             \u001b[0;32mexcept\u001b[0m \u001b[0mKeyError\u001b[0m \u001b[0;32mas\u001b[0m \u001b[0merr\u001b[0m\u001b[0;34m:\u001b[0m\u001b[0;34m\u001b[0m\u001b[0;34m\u001b[0m\u001b[0m\n\u001b[0;32m-> 3363\u001b[0;31m                 \u001b[0;32mraise\u001b[0m \u001b[0mKeyError\u001b[0m\u001b[0;34m(\u001b[0m\u001b[0mkey\u001b[0m\u001b[0;34m)\u001b[0m \u001b[0;32mfrom\u001b[0m \u001b[0merr\u001b[0m\u001b[0;34m\u001b[0m\u001b[0;34m\u001b[0m\u001b[0m\n\u001b[0m\u001b[1;32m   3364\u001b[0m \u001b[0;34m\u001b[0m\u001b[0m\n\u001b[1;32m   3365\u001b[0m         \u001b[0;32mif\u001b[0m \u001b[0mis_scalar\u001b[0m\u001b[0;34m(\u001b[0m\u001b[0mkey\u001b[0m\u001b[0;34m)\u001b[0m \u001b[0;32mand\u001b[0m \u001b[0misna\u001b[0m\u001b[0;34m(\u001b[0m\u001b[0mkey\u001b[0m\u001b[0;34m)\u001b[0m \u001b[0;32mand\u001b[0m \u001b[0;32mnot\u001b[0m \u001b[0mself\u001b[0m\u001b[0;34m.\u001b[0m\u001b[0mhasnans\u001b[0m\u001b[0;34m:\u001b[0m\u001b[0;34m\u001b[0m\u001b[0;34m\u001b[0m\u001b[0m\n",
            "\u001b[0;31mKeyError\u001b[0m: 0"
          ]
        }
      ]
    },
    {
      "cell_type": "code",
      "source": [
        "for i in range(10):\n",
        "  print(len(a1[i]))"
      ],
      "metadata": {
        "id": "Y7Z0vQ6WX2R3"
      },
      "execution_count": null,
      "outputs": []
    },
    {
      "cell_type": "code",
      "source": [
        "for i in range(10):\n",
        "  print(len(a1[i]))"
      ],
      "metadata": {
        "id": "ZFBwnmnCaBqH"
      },
      "execution_count": null,
      "outputs": []
    },
    {
      "cell_type": "code",
      "source": [
        "y17n.to_csv('2017N.csv')\n",
        "y17bn.to_csv('2017BN.csv')\n",
        "y18n.to_csv('2018N.csv')\n",
        "y18bn.to_csv('2018BN.csv')\n",
        "y19n.to_csv('2019N.csv')\n",
        "y19bn.to_csv('2019BN.csv')\n",
        "y20n.to_csv('2020N.csv')\n",
        "y20bn.to_csv('2020BN.csv')\n",
        "y21n.to_csv('2021N.csv')\n",
        "y21bn.to_csv('2021BN.csv')\n"
      ],
      "metadata": {
        "id": "Ha3fL_Lyba6v"
      },
      "execution_count": null,
      "outputs": []
    }
  ]
}